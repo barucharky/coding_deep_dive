{
 "cells": [
  {
   "cell_type": "markdown",
   "metadata": {
    "toc-hr-collapsed": true
   },
   "source": [
    "\n",
    "## ECDF - Empirical Cumulative Distribution Function\n",
    "\n",
    "- This ***cumulative distribution function*** jumps up by **1/n** at each of the **n** data points. \n",
    "\n",
    "- Its value at any specified value of the measured variable is the fraction of observations of the measured variable that are less than or equal to the specified value.\n",
    "\n",
    "- It is ***empirical*** in that it is associated with the ***empirical measurements*** of a sample. \n",
    "\n",
    "---\n",
    "\n",
    "- It is a step function used to show the distribution of data. \n",
    "- It can answer what percentage of the data is under a specific value.\n",
    "\n",
    "---\n",
    "\n",
    "#### Why use ecdfs over histograms?\n",
    "- Histogram can show the distribution of your data also. However you can be tricked by histograms depending on the number of bins you used.\n",
    "- ECDF's are immune to binning bias."
   ]
  },
  {
   "cell_type": "markdown",
   "metadata": {},
   "source": [
    "---"
   ]
  },
  {
   "cell_type": "code",
   "execution_count": 1,
   "metadata": {},
   "outputs": [],
   "source": [
    "import os\n",
    "import sys\n",
    "\n",
    "# Import the regular expression module\n",
    "import re\n",
    "\n",
    "import numpy as np\n",
    "\n",
    "import pandas as pd\n",
    "from scipy.stats import zscore\n",
    "\n",
    "import matplotlib.pyplot as plt\n",
    "\n",
    "import seaborn as sns\n",
    "\n",
    "from sklearn.datasets import load_iris"
   ]
  },
  {
   "cell_type": "code",
   "execution_count": 2,
   "metadata": {},
   "outputs": [
    {
     "name": "stdout",
     "output_type": "stream",
     "text": [
      "Prior size: [6.0, 4.0]\n",
      "Current size: [12, 9]\n"
     ]
    }
   ],
   "source": [
    "# Get current size\n",
    "fig_size = plt.rcParams[\"figure.figsize\"]\n",
    " \n",
    "# Prints: [8.0, 6.0]\n",
    "print (\"Prior size:\", fig_size)\n",
    " \n",
    "# Set figure width to 12 and height to 9\n",
    "fig_size[0] = 12\n",
    "fig_size[1] = 9\n",
    "plt.rcParams[\"figure.figsize\"] = fig_size\n",
    "\n",
    "print (\"Current size:\", fig_size)"
   ]
  },
  {
   "cell_type": "code",
   "execution_count": 3,
   "metadata": {},
   "outputs": [
    {
     "name": "stdout",
     "output_type": "stream",
     "text": [
      "------------------------------\n",
      "          PROJ_ROOT           \n",
      "/home/intsights/repos/repos-edu/repos-ds-math-python/data-hero\n",
      "------------------------------\n",
      " \n",
      "------------------------------\n",
      "           src_dir            \n",
      "/home/intsights/repos/repos-edu/repos-ds-math-python/data-hero/src\n",
      "------------------------------\n",
      " \n"
     ]
    }
   ],
   "source": [
    "# -- -----------------------------------------------------------------\n",
    "PROJ_ROOT = '../..'\n",
    "\n",
    "print(\"------------------------------\")\n",
    "print(\"          PROJ_ROOT           \")\n",
    "print(os.path.abspath(PROJ_ROOT))\n",
    "print(\"------------------------------\")\n",
    "print(\" \")\n",
    "# -- -----------------------------------------------------------------\n",
    "\n",
    "\n",
    "\n",
    "# -- -----------------------------------------------------------------\n",
    "# add the 'src' directory as one where we can import modules\n",
    "src_dir = os.path.join(PROJ_ROOT, 'src')\n",
    "sys.path.append(src_dir)\n",
    "\n",
    "\n",
    "print(\"------------------------------\")\n",
    "print(\"           src_dir            \")\n",
    "print(os.path.abspath(src_dir))\n",
    "print(\"------------------------------\")\n",
    "print(\" \")\n",
    "# -- -----------------------------------------------------------------\n",
    "\n",
    "\n",
    "\n",
    "# -- -----------------------------------------------------------------\n",
    "# Load the \"autoreload\" extension\n",
    "%load_ext autoreload\n",
    "\n",
    "# always reload modules marked with \"%aimport\"\n",
    "%autoreload 1\n",
    "\n",
    "# import my method from the source code\n",
    "%aimport helper_functions\n",
    "import helper_functions as hf\n",
    "# -- -----------------------------------------------------------------"
   ]
  },
  {
   "cell_type": "markdown",
   "metadata": {},
   "source": [
    "---\n",
    "### Get the `iris` dataset"
   ]
  },
  {
   "cell_type": "code",
   "execution_count": 4,
   "metadata": {},
   "outputs": [],
   "source": [
    "\n",
    "col_names = [\n",
    "    'sepal length (cm)',\n",
    "    'sepal width (cm)',\n",
    "    'petal length (cm)',\n",
    "    'petal width (cm)',\n",
    "    'species'\n",
    "]    "
   ]
  },
  {
   "cell_type": "code",
   "execution_count": 5,
   "metadata": {},
   "outputs": [
    {
     "data": {
      "text/html": [
       "<div>\n",
       "<style scoped>\n",
       "    .dataframe tbody tr th:only-of-type {\n",
       "        vertical-align: middle;\n",
       "    }\n",
       "\n",
       "    .dataframe tbody tr th {\n",
       "        vertical-align: top;\n",
       "    }\n",
       "\n",
       "    .dataframe thead th {\n",
       "        text-align: right;\n",
       "    }\n",
       "</style>\n",
       "<table border=\"1\" class=\"dataframe\">\n",
       "  <thead>\n",
       "    <tr style=\"text-align: right;\">\n",
       "      <th></th>\n",
       "      <th>sepal length (cm)</th>\n",
       "      <th>sepal width (cm)</th>\n",
       "      <th>petal length (cm)</th>\n",
       "      <th>petal width (cm)</th>\n",
       "      <th>species</th>\n",
       "    </tr>\n",
       "  </thead>\n",
       "  <tbody>\n",
       "    <tr>\n",
       "      <th>0</th>\n",
       "      <td>5.1</td>\n",
       "      <td>3.5</td>\n",
       "      <td>1.4</td>\n",
       "      <td>0.2</td>\n",
       "      <td>Iris-setosa</td>\n",
       "    </tr>\n",
       "    <tr>\n",
       "      <th>1</th>\n",
       "      <td>4.9</td>\n",
       "      <td>3.0</td>\n",
       "      <td>1.4</td>\n",
       "      <td>0.2</td>\n",
       "      <td>Iris-setosa</td>\n",
       "    </tr>\n",
       "    <tr>\n",
       "      <th>2</th>\n",
       "      <td>4.7</td>\n",
       "      <td>3.2</td>\n",
       "      <td>1.3</td>\n",
       "      <td>0.2</td>\n",
       "      <td>Iris-setosa</td>\n",
       "    </tr>\n",
       "    <tr>\n",
       "      <th>3</th>\n",
       "      <td>4.6</td>\n",
       "      <td>3.1</td>\n",
       "      <td>1.5</td>\n",
       "      <td>0.2</td>\n",
       "      <td>Iris-setosa</td>\n",
       "    </tr>\n",
       "    <tr>\n",
       "      <th>4</th>\n",
       "      <td>5.0</td>\n",
       "      <td>3.6</td>\n",
       "      <td>1.4</td>\n",
       "      <td>0.2</td>\n",
       "      <td>Iris-setosa</td>\n",
       "    </tr>\n",
       "  </tbody>\n",
       "</table>\n",
       "</div>"
      ],
      "text/plain": [
       "   sepal length (cm)  sepal width (cm)  petal length (cm)  petal width (cm)  \\\n",
       "0                5.1               3.5                1.4               0.2   \n",
       "1                4.9               3.0                1.4               0.2   \n",
       "2                4.7               3.2                1.3               0.2   \n",
       "3                4.6               3.1                1.5               0.2   \n",
       "4                5.0               3.6                1.4               0.2   \n",
       "\n",
       "       species  \n",
       "0  Iris-setosa  \n",
       "1  Iris-setosa  \n",
       "2  Iris-setosa  \n",
       "3  Iris-setosa  \n",
       "4  Iris-setosa  "
      ]
     },
     "execution_count": 5,
     "metadata": {},
     "output_type": "execute_result"
    }
   ],
   "source": [
    "iris_df = hf.read_csv(\n",
    "    p_dir          = hf.DATA_RAW_DIR, \n",
    "    p_file_name    = 'iris-data.csv',\n",
    "    p_header       = None,\n",
    "    p_names        = col_names\n",
    ")\n",
    "\n",
    "iris_df.head()"
   ]
  },
  {
   "cell_type": "markdown",
   "metadata": {},
   "source": [
    "---\n",
    "### Pull the species' petal length into arrays"
   ]
  },
  {
   "cell_type": "code",
   "execution_count": 6,
   "metadata": {},
   "outputs": [
    {
     "data": {
      "text/plain": [
       "array(['Iris-setosa', 'Iris-versicolor', 'Iris-virginica'], dtype=object)"
      ]
     },
     "execution_count": 6,
     "metadata": {},
     "output_type": "execute_result"
    }
   ],
   "source": [
    "iris_df['species'].unique()"
   ]
  },
  {
   "cell_type": "code",
   "execution_count": 7,
   "metadata": {},
   "outputs": [],
   "source": [
    "setosa_petal_length     = iris_df[iris_df['species'] == 'Iris-setosa']['petal length (cm)'].values\n",
    "\n",
    "versicolor_petal_length = iris_df[iris_df['species'] == 'Iris-versicolor']['petal length (cm)'].values\n",
    "\n",
    "virginica_petal_length  = iris_df[iris_df['species'] == 'Iris-virginica']['petal length (cm)'].values"
   ]
  },
  {
   "cell_type": "markdown",
   "metadata": {},
   "source": [
    "---\n",
    "### Plot ECDF"
   ]
  },
  {
   "cell_type": "code",
   "execution_count": 8,
   "metadata": {},
   "outputs": [
    {
     "data": {
      "image/png": "[encoded data removed]",
      "text/plain": [
       "<Figure size 864x648 with 1 Axes>"
      ]
     },
     "metadata": {
      "needs_background": "light"
     },
     "output_type": "display_data"
    }
   ],
   "source": [
    "# Compute ECDF for versicolor data: x_vers, y_vers\n",
    "x_vers, y_vers = hf.ecdf(versicolor_petal_length)\n",
    "\n",
    "# Generate plot\n",
    "_ = plt.plot(x_vers, y_vers, marker='.', linestyle='none')\n",
    "\n",
    "# Make the margins nice\n",
    "plt.margins(0.02)\n",
    "\n",
    "# Label the axes\n",
    "_ = plt.xlabel('petal length (cm)')\n",
    "_ = plt.ylabel('Percentile')\n",
    "\n",
    "_ = plt.title('Iris Versicolor - Petal Length ECDF')\n",
    "\n",
    "# Display the plot\n",
    "plt.show()"
   ]
  },
  {
   "cell_type": "markdown",
   "metadata": {},
   "source": [
    "---\n",
    "### Comparison of ECDFs using multiple ECDFs on one plot"
   ]
  },
  {
   "cell_type": "code",
   "execution_count": 9,
   "metadata": {},
   "outputs": [
    {
     "data": {
      "image/png": "[encoded data removed]",
      "text/plain": [
       "<Figure size 864x648 with 1 Axes>"
      ]
     },
     "metadata": {
      "needs_background": "light"
     },
     "output_type": "display_data"
    }
   ],
   "source": [
    "# Compute ECDFs\n",
    "x_set, y_set   = hf.ecdf(setosa_petal_length)\n",
    "x_vers, y_vers = hf.ecdf(versicolor_petal_length)\n",
    "x_virg, y_virg = hf.ecdf(virginica_petal_length)\n",
    "\n",
    "\n",
    "# Plot all ECDFs on the same plot\n",
    "_ = plt.plot(x_set,  y_set,  marker='.', linestyle='none')\n",
    "_ = plt.plot(x_vers, y_vers, marker='.', linestyle='none')\n",
    "_ = plt.plot(x_virg, y_virg, marker='.', linestyle='none')\n",
    "\n",
    "# Make nice margins\n",
    "plt.margins(0.02)\n",
    "\n",
    "\n",
    "# Annotate the plot\n",
    "_ = plt.legend(('setosa', 'versicolor', 'virginica'), loc='lower right')\n",
    "\n",
    "_ = plt.xlabel('petal length (cm)')\n",
    "_ = plt.ylabel('Percentile')\n",
    "\n",
    "_ = plt.title('Iris - Petal Length ECDF')\n",
    "\n",
    "# Display the plot\n",
    "plt.show()"
   ]
  },
  {
   "cell_type": "markdown",
   "metadata": {},
   "source": [
    "The ECDFs expose clear differences among the species. \n",
    "- Setosa is much shorter, also with less absolute variability in petal length than versicolor and virginica."
   ]
  },
  {
   "cell_type": "markdown",
   "metadata": {
    "toc-hr-collapsed": true
   },
   "source": [
    "---\n",
    "\n",
    "### Overlay **mean** and **percentiles** on top of ECDF"
   ]
  },
  {
   "cell_type": "markdown",
   "metadata": {},
   "source": [
    "---\n",
    "#### Compute the mean"
   ]
  },
  {
   "cell_type": "code",
   "execution_count": 10,
   "metadata": {},
   "outputs": [
    {
     "name": "stdout",
     "output_type": "stream",
     "text": [
      "I. versicolor: 4.26 cm\n"
     ]
    }
   ],
   "source": [
    "mean_length_vers = np.mean(versicolor_petal_length)\n",
    "\n",
    "print('I. versicolor:', mean_length_vers, 'cm')"
   ]
  },
  {
   "cell_type": "markdown",
   "metadata": {},
   "source": [
    "--- \n",
    "#### Compute percentiles"
   ]
  },
  {
   "cell_type": "code",
   "execution_count": 11,
   "metadata": {},
   "outputs": [
    {
     "data": {
      "text/plain": [
       "array([3.3   , 4.    , 4.35  , 4.6   , 4.9775])"
      ]
     },
     "execution_count": 11,
     "metadata": {},
     "output_type": "execute_result"
    }
   ],
   "source": [
    "percentiles = np.array([2.5, 25, 50, 75, 97.5])\n",
    "\n",
    "\n",
    "ptiles_vers = np.percentile(\n",
    "    versicolor_petal_length, \n",
    "    percentiles\n",
    ")\n",
    "\n",
    "ptiles_vers"
   ]
  },
  {
   "cell_type": "markdown",
   "metadata": {},
   "source": [
    "---\n",
    "#### Overlay on top of ECDF"
   ]
  },
  {
   "cell_type": "code",
   "execution_count": 12,
   "metadata": {},
   "outputs": [
    {
     "data": {
      "image/png": "[encoded data removed]",
      "text/plain": [
       "<Figure size 864x648 with 1 Axes>"
      ]
     },
     "metadata": {
      "needs_background": "light"
     },
     "output_type": "display_data"
    }
   ],
   "source": [
    "# -- ~~~~~~~~~~~~~~~~~~~~~~~~~~~~~~~~~~~~~~~~~~\n",
    "# Plot the ECDF\n",
    "_ = plt.plot(\n",
    "    x_vers, \n",
    "    y_vers, \n",
    "    '.')\n",
    "\n",
    "plt.margins(0.02)\n",
    "\n",
    "_ = plt.xlabel('Petal length (cm)')\n",
    "_ = plt.ylabel('Percentile')\n",
    "# -- ~~~~~~~~~~~~~~~~~~~~~~~~~~~~~~~~~~~~~~~~~~\n",
    "\n",
    "\n",
    "\n",
    "# -- ~~~~~~~~~~~~~~~~~~~~~~~~~~~~~~~~~~~~~~~~~~\n",
    "# Overlay percentiles as red x's\n",
    "#\n",
    "# Note that to ensure the Y-axis of the plot remains between 0 and 1, you will \n",
    "# need to rescale the percentiles array accordingly - in this case, dividing it by 100.\n",
    "\n",
    "_ = plt.plot(\n",
    "    ptiles_vers, \n",
    "    percentiles/100,  \n",
    "    marker    = 'D', \n",
    "    color     = 'red',\n",
    "    linestyle = 'none'\n",
    ")\n",
    "# -- ~~~~~~~~~~~~~~~~~~~~~~~~~~~~~~~~~~~~~~~~~~\n",
    "\n",
    "\n",
    "# -- ~~~~~~~~~~~~~~~~~~~~~~~~~~~~~~~~~~~~~~~~~~\n",
    "# Make vertical line for the mean\n",
    "#\n",
    "_ = plt.axvline(\n",
    "    x      = mean_length_vers,\n",
    "    color  = 'grey',\n",
    "    label  = 'Mean: '+str(mean_length_vers),\n",
    "    dashes = [5, 10]  # 5 points on, 10 off\n",
    ")\n",
    "# -- ~~~~~~~~~~~~~~~~~~~~~~~~~~~~~~~~~~~~~~~~~~\n",
    "\n",
    "\n",
    "\n",
    "_ = plt.legend(loc='upper left')\n",
    "_ = plt.title('Iris Versicolor - Petal Length ECDF')\n",
    "\n",
    "\n",
    "plt.show()\n"
   ]
  },
  {
   "cell_type": "markdown",
   "metadata": {
    "toc-hr-collapsed": true
   },
   "source": [
    "---\n",
    "\n",
    "## PDF - Probability Density Function\n",
    "\n",
    "\n",
    "- While the absolute likelihood for a ***continuous random variable*** to take on any ***particular value*** is ***0*** (since there are an infinite set of possible values to begin with), the PDF is used to specify the probability of the random variable falling within a ***particular range*** of values, as opposed to taking on any one value. \n",
    "\n",
    "- This probability is given by the ***integral*** of this variable's PDF ***over that range***. \n",
    "- The probability density function is ***nonnegative everywhere***, and its ***integral over the entire space is equal to one***."
   ]
  },
  {
   "cell_type": "markdown",
   "metadata": {},
   "source": [
    "<img src=\"images/normal-pdf.png\">"
   ]
  },
  {
   "cell_type": "markdown",
   "metadata": {},
   "source": [
    "---\n",
    "### The Normal PDF\n"
   ]
  },
  {
   "cell_type": "code",
   "execution_count": 13,
   "metadata": {},
   "outputs": [],
   "source": [
    "# Draw 100000 samples from Normal distribution with stds of interest: \n",
    "samples_std1  = np.random.normal(\n",
    "    loc   = 20,     # Mean (“centre”) of the distribution.\n",
    "    scale = 1,      # Standard deviation (spread or “width”) of the distribution. \n",
    "    size  = 100000  \n",
    ")\n",
    "\n",
    "samples_std3  = np.random.normal(20, 3,  size=100000)\n",
    "\n",
    "samples_std10 = np.random.normal(20, 10, size=100000)"
   ]
  },
  {
   "cell_type": "code",
   "execution_count": 14,
   "metadata": {},
   "outputs": [
    {
     "data": {
      "image/png": "[encoded data removed]",
      "text/plain": [
       "<Figure size 864x648 with 1 Axes>"
      ]
     },
     "metadata": {
      "needs_background": "light"
     },
     "output_type": "display_data"
    }
   ],
   "source": [
    "\n",
    "\n",
    "# Make histograms\n",
    "_ = plt.hist(samples_std1,  bins=100, density=True, histtype='step')\n",
    "_ = plt.hist(samples_std3,  bins=100, density=True, histtype='step')\n",
    "_ = plt.hist(samples_std10, bins=100, density=True, histtype='step')\n",
    "\n",
    "# Make a legend, set limits and show plot\n",
    "_ = plt.legend(('std = 1', 'std = 3', 'std = 10'))\n",
    "plt.ylim(-0.01, 0.42)\n",
    "plt.show()\n"
   ]
  },
  {
   "cell_type": "markdown",
   "metadata": {},
   "source": [
    "Note how the peaks are all centered at the ***mean*** of 20."
   ]
  },
  {
   "cell_type": "markdown",
   "metadata": {},
   "source": [
    "---\n",
    "## The Normal CDF"
   ]
  },
  {
   "cell_type": "code",
   "execution_count": 15,
   "metadata": {},
   "outputs": [
    {
     "data": {
      "image/png": "[encoded data removed]",
      "text/plain": [
       "<Figure size 864x648 with 1 Axes>"
      ]
     },
     "metadata": {
      "needs_background": "light"
     },
     "output_type": "display_data"
    }
   ],
   "source": [
    "# Generate CDFs\n",
    "x_std1, y_std1   = hf.ecdf(samples_std1)\n",
    "x_std3, y_std3   = hf.ecdf(samples_std3)\n",
    "x_std10, y_std10 = hf.ecdf(samples_std10)\n",
    "\n",
    "# Plot CDFs\n",
    "_ = plt.plot(x_std1,  y_std1,  marker='.', linestyle='none')\n",
    "_ = plt.plot(x_std3,  y_std3,  marker='.', linestyle='none')\n",
    "_ = plt.plot(x_std10, y_std10, marker='.', linestyle='none')\n",
    "\n",
    "# Make 2% margin\n",
    "plt.margins(0.02)\n",
    "\n",
    "# Make a legend and show the plot\n",
    "_ = plt.legend(('std = 1', 'std = 3', 'std = 10'), loc='lower right')\n",
    "plt.show()\n"
   ]
  },
  {
   "cell_type": "markdown",
   "metadata": {},
   "source": [
    "- Note how the CDFs all pass through the mean at the 50th percentile; the **mean and median of a Normal distribution are equal**. \n",
    "- The width of the CDF varies with the standard deviation.\n"
   ]
  },
  {
   "cell_type": "markdown",
   "metadata": {
    "toc-hr-collapsed": true
   },
   "source": [
    "---\n",
    "\n",
    "## Checking if a dataset is ***normally distributed***"
   ]
  },
  {
   "cell_type": "markdown",
   "metadata": {},
   "source": [
    "---\n",
    "### Are the Belmont Stakes results Normally distributed?\n",
    "- Since 1926, the Belmont Stakes is a 1.5 mile-long race of 3-year old thoroughbred horses. \n",
    "- Secretariat ran the fastest Belmont Stakes in history in 1973. \n",
    "- While that was the fastest year, 1970 was the slowest because of unusually wet and sloppy conditions. \n",
    "- **With these two outliers removed from the data set, compute the mean and standard deviation of the Belmont winners' times.** \n",
    "- Sample out of a Normal distribution with this mean and standard deviation using the np.random.normal() function and plot a CDF. \n",
    "- Overlay the ECDF from the winning Belmont times. Are these close to Normally distributed?"
   ]
  },
  {
   "cell_type": "code",
   "execution_count": 16,
   "metadata": {},
   "outputs": [],
   "source": [
    "belmont_no_outliers = np.array([\n",
    "    148.51, 146.65, 148.52, 150.7 , 150.42, 150.88, 151.57, 147.54,\n",
    "    149.65, 148.74, 147.86, 148.75, 147.5 , 148.26, 149.71, 146.56,\n",
    "    151.19, 147.88, 149.16, 148.82, 148.96, 152.02, 146.82, 149.97,\n",
    "    146.13, 148.1 , 147.2 , 146.  , 146.4 , 148.2 , 149.8 , 147.  ,\n",
    "    147.2 , 147.8 , 148.2 , 149.  , 149.8 , 148.6 , 146.8 , 149.6 ,\n",
    "    149.  , 148.2 , 149.2 , 148.  , 150.4 , 148.8 , 147.2 , 148.8 ,\n",
    "    149.6 , 148.4 , 148.4 , 150.2 , 148.8 , 149.2 , 149.2 , 148.4 ,\n",
    "    150.2 , 146.6 , 149.8 , 149.  , 150.8 , 148.6 , 150.2 , 149.  ,\n",
    "    148.6 , 150.2 , 148.2 , 149.4 , 150.8 , 150.2 , 152.2 , 148.2 ,\n",
    "    149.2 , 151.  , 149.6 , 149.6 , 149.4 , 148.6 , 150.  , 150.6 ,\n",
    "    149.2 , 152.6 , 152.8 , 149.6 , 151.6 , 152.8 , 153.2 , 152.4 ,\n",
    "    152.2 \n",
    "])"
   ]
  },
  {
   "cell_type": "code",
   "execution_count": 17,
   "metadata": {},
   "outputs": [
    {
     "name": "stdout",
     "output_type": "stream",
     "text": [
      "149.22101123595507 1.6186456017743405\n"
     ]
    }
   ],
   "source": [
    "# Compute mean and standard deviation: \n",
    "mu = np.mean(belmont_no_outliers)\n",
    "sigma = np.std(belmont_no_outliers)\n",
    "\n",
    "print(mu, sigma)"
   ]
  },
  {
   "cell_type": "code",
   "execution_count": 18,
   "metadata": {},
   "outputs": [],
   "source": [
    "# Sample out of a normal distribution with this mu and sigma: \n",
    "samples = np.random.normal(mu, sigma, size=10000)"
   ]
  },
  {
   "cell_type": "code",
   "execution_count": 19,
   "metadata": {},
   "outputs": [
    {
     "data": {
      "image/png": "[encoded data removed]",
      "text/plain": [
       "<Figure size 864x648 with 1 Axes>"
      ]
     },
     "metadata": {
      "needs_background": "light"
     },
     "output_type": "display_data"
    }
   ],
   "source": [
    "# Get the CDF of the samples and of the data\n",
    "x_theor, y_theor = hf.ecdf(samples)\n",
    "x, y             = hf.ecdf(belmont_no_outliers)\n",
    "\n",
    "# Plot the CDFs and show the plot\n",
    "_ = plt.plot(x_theor, y_theor)\n",
    "_ = plt.plot(x, y, marker='.', linestyle='none')\n",
    "\n",
    "plt.margins(0.02)\n",
    "\n",
    "_ = plt.xlabel('Belmont winning time (sec.)')\n",
    "_ = plt.ylabel('CDF')\n",
    "\n",
    "plt.show()\n"
   ]
  },
  {
   "cell_type": "markdown",
   "metadata": {},
   "source": [
    "- The theoretical CDF and the ECDF of the data suggest that the winning Belmont times are, indeed, Normally distributed. \n",
    "-  This also suggests that in the last 100 years or so, there have not been major technological or training advances that have significantly affected the speed at which horses can run this race."
   ]
  },
  {
   "cell_type": "markdown",
   "metadata": {},
   "source": [
    "---\n",
    "### What are the chances of a horse matching or beating Secretariat's record?\n",
    "- Assume that the Belmont winners' times are Normally distributed (with the 1970 and 1973 years removed)\n",
    "- What is the probability that the winner of a given Belmont Stakes will run it as fast or faster than Secretariat?\n",
    "- Compute the fraction of samples that have a time less than or equal to Secretariat's time of **144 seconds**."
   ]
  },
  {
   "cell_type": "code",
   "execution_count": 20,
   "metadata": {},
   "outputs": [
    {
     "name": "stdout",
     "output_type": "stream",
     "text": [
      "Probability of besting Secretariat: 0.000605\n"
     ]
    }
   ],
   "source": [
    "# Compute mean and standard deviation: \n",
    "mu    = np.mean(belmont_no_outliers)\n",
    "sigma = np.std(belmont_no_outliers)\n",
    "\n",
    "# Take a million samples out of the Normal distribution: \n",
    "samples = np.random.normal(mu, sigma, size=1000000)\n",
    "\n",
    "# Compute the fraction that are faster than 144 seconds: \n",
    "prob = np.sum(samples <= 144) / len(samples)\n",
    "\n",
    "# Print the result\n",
    "print('Probability of besting Secretariat:', prob)"
   ]
  },
  {
   "cell_type": "markdown",
   "metadata": {},
   "source": [
    "- We had to take a million samples because the probability of a fast time is very low and we had to be sure to sample enough. \n",
    "- We get that **there is only a 0.06% chance** of a horse running the Belmont as fast as Secretariat."
   ]
  }
 ],
 "metadata": {
  "kernelspec": {
   "display_name": "Python (data-hero)",
   "language": "python",
   "name": "data-hero"
  },
  "language_info": {
   "codemirror_mode": {
    "name": "ipython",
    "version": 3
   },
   "file_extension": ".py",
   "mimetype": "text/x-python",
   "name": "python",
   "nbconvert_exporter": "python",
   "pygments_lexer": "ipython3",
   "version": "3.8.5"
  }
 },
 "nbformat": 4,
 "nbformat_minor": 4
}
