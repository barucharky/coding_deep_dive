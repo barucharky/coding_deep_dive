{
 "cells": [
  {
   "cell_type": "markdown",
   "metadata": {},
   "source": [
    "## B''H\n",
    "\n",
    "---\n",
    "\n",
    "First python app"
   ]
  },
  {
   "cell_type": "code",
   "execution_count": 1,
   "metadata": {},
   "outputs": [
    {
     "name": "stdout",
     "output_type": "stream",
     "text": [
      "hello world!\n"
     ]
    }
   ],
   "source": [
    "print(\"hello world!\")"
   ]
  },
  {
   "cell_type": "markdown",
   "metadata": {},
   "source": [
    "---"
   ]
  },
  {
   "cell_type": "code",
   "execution_count": 2,
   "metadata": {},
   "outputs": [
    {
     "name": "stdout",
     "output_type": "stream",
     "text": [
      "['yossi', 'mendy', 'baruch']\n"
     ]
    }
   ],
   "source": [
    "l = ['yossi', 'mendy', 'baruch']\n",
    "print(l)"
   ]
  },
  {
   "cell_type": "code",
   "execution_count": 3,
   "metadata": {},
   "outputs": [
    {
     "name": "stdout",
     "output_type": "stream",
     "text": [
      "yossi\n",
      "mendy\n",
      "baruch\n"
     ]
    }
   ],
   "source": [
    "for name in l:\n",
    "    print(name)"
   ]
  },
  {
   "cell_type": "code",
   "execution_count": 4,
   "metadata": {},
   "outputs": [
    {
     "name": "stdout",
     "output_type": "stream",
     "text": [
      "Hi, my name is yossi what is your name?\n",
      "Hi, my name is mendy what is your name?\n",
      "Hi, my name is baruch what is your name?\n"
     ]
    }
   ],
   "source": [
    "for name in l:\n",
    "    print(\"Hi, my name is\", name, \"what is your name?\")"
   ]
  },
  {
   "cell_type": "code",
   "execution_count": 5,
   "metadata": {},
   "outputs": [
    {
     "name": "stdout",
     "output_type": "stream",
     "text": [
      "waht's upp\n"
     ]
    }
   ],
   "source": [
    "print(\"waht's upp\")"
   ]
  },
  {
   "cell_type": "code",
   "execution_count": 6,
   "metadata": {},
   "outputs": [
    {
     "name": "stdout",
     "output_type": "stream",
     "text": [
      "Hi, I'm Yossi what's yours?\n",
      "Hi, I'm Mendy what's yours?\n",
      "Hi, I'm Baruch what's yours?\n"
     ]
    }
   ],
   "source": [
    "for name in l:\n",
    "    print(\"Hi, I'm\", name.title(), \"what's yours?\")"
   ]
  },
  {
   "cell_type": "code",
   "execution_count": 7,
   "metadata": {},
   "outputs": [],
   "source": [
    "l.append(\"charlie buttons\")"
   ]
  },
  {
   "cell_type": "code",
   "execution_count": 8,
   "metadata": {},
   "outputs": [
    {
     "name": "stdout",
     "output_type": "stream",
     "text": [
      "Hi, they call me Yossi who are you?\n",
      "Hi, they call me Mendy who are you?\n",
      "Hi, they call me Baruch who are you?\n",
      "Hi, they call me Charlie Buttons who are you?\n"
     ]
    }
   ],
   "source": [
    "for name in l:\n",
    "    print('Hi, they call me', name.title(), 'who are you?')"
   ]
  },
  {
   "cell_type": "code",
   "execution_count": null,
   "metadata": {},
   "outputs": [],
   "source": []
  }
 ],
 "metadata": {
  "kernelspec": {
   "display_name": "Python (py-test-app)",
   "language": "python",
   "name": "py-test-app"
  },
  "language_info": {
   "codemirror_mode": {
    "name": "ipython",
    "version": 3
   },
   "file_extension": ".py",
   "mimetype": "text/x-python",
   "name": "python",
   "nbconvert_exporter": "python",
   "pygments_lexer": "ipython3",
   "version": "3.7.3"
  }
 },
 "nbformat": 4,
 "nbformat_minor": 2
}
