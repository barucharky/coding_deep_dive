{
 "cells": [
  {
   "cell_type": "markdown",
   "metadata": {},
   "source": [
    "# B''H"
   ]
  },
  {
   "cell_type": "code",
   "execution_count": 1,
   "metadata": {},
   "outputs": [],
   "source": [
    "from google.cloud import bigquery"
   ]
  },
  {
   "cell_type": "markdown",
   "metadata": {},
   "source": [
    "---\n",
    "### Prerequisite Step 1 - get/set environment variable that contains the key to access BigQuery API"
   ]
  },
  {
   "cell_type": "code",
   "execution_count": 2,
   "metadata": {},
   "outputs": [
    {
     "name": "stdout",
     "output_type": "stream",
     "text": [
      "env: GOOGLE_APPLICATION_CREDENTIALS=/home/baruch/app-keys/data-science-course-a1544568093e.json\n"
     ]
    }
   ],
   "source": [
    "%set_env GOOGLE_APPLICATION_CREDENTIALS=/home/baruch/app-keys/data-science-course-a1544568093e.json"
   ]
  },
  {
   "cell_type": "raw",
   "metadata": {},
   "source": []
  },
  {
   "cell_type": "code",
   "execution_count": null,
   "metadata": {},
   "outputs": [],
   "source": []
  },
  {
   "cell_type": "markdown",
   "metadata": {},
   "source": [
    "---\n",
    "\n",
    "### Prerequisite Step 2 - Instantiate a BigQuery Python client\n",
    "- Use the **Project ID** not the **Project Name**\n",
    "- See https://console.cloud.google.com/home/dashboard?project=data-science-course-226116 for the proejct name and ID"
   ]
  },
  {
   "cell_type": "code",
   "execution_count": 3,
   "metadata": {},
   "outputs": [],
   "source": [
    "bq_client = bigquery.Client(project='data-science-course-226116')"
   ]
  },
  {
   "cell_type": "code",
   "execution_count": 4,
   "metadata": {},
   "outputs": [
    {
     "data": {
      "text/plain": [
       "<google.cloud.bigquery.client.Client at 0x7ffa2c5114a8>"
      ]
     },
     "execution_count": 4,
     "metadata": {},
     "output_type": "execute_result"
    }
   ],
   "source": [
    "bq_client"
   ]
  },
  {
   "cell_type": "markdown",
   "metadata": {},
   "source": [
    "---\n",
    "\n",
    "### Get project-id"
   ]
  },
  {
   "cell_type": "code",
   "execution_count": 5,
   "metadata": {},
   "outputs": [
    {
     "data": {
      "text/plain": [
       "'data-science-course-226116'"
      ]
     },
     "execution_count": 5,
     "metadata": {},
     "output_type": "execute_result"
    }
   ],
   "source": [
    "project = bq_client.project\n",
    "\n",
    "project"
   ]
  },
  {
   "cell_type": "markdown",
   "metadata": {},
   "source": [
    "---\n",
    "\n",
    "### List datasets for the client’s project:"
   ]
  },
  {
   "cell_type": "code",
   "execution_count": 6,
   "metadata": {},
   "outputs": [
    {
     "data": {
      "text/plain": [
       "[<google.cloud.bigquery.dataset.DatasetListItem at 0x7ffa58249320>]"
      ]
     },
     "execution_count": 6,
     "metadata": {},
     "output_type": "execute_result"
    }
   ],
   "source": [
    "datasets = list(bq_client.list_datasets())\n",
    "\n",
    "datasets"
   ]
  },
  {
   "cell_type": "code",
   "execution_count": 7,
   "metadata": {},
   "outputs": [
    {
     "name": "stdout",
     "output_type": "stream",
     "text": [
      "sql_lessons\n"
     ]
    }
   ],
   "source": [
    "for dataset in datasets:  \n",
    "    print(dataset.dataset_id)"
   ]
  },
  {
   "cell_type": "markdown",
   "metadata": {},
   "source": [
    "### List tables for the dataset:"
   ]
  },
  {
   "cell_type": "code",
   "execution_count": 8,
   "metadata": {},
   "outputs": [],
   "source": [
    "dataset_ref = bq_client.dataset('sql_lessons')\n",
    "\n",
    "tables = list(bq_client.list_tables(dataset_ref))  # API request(s)"
   ]
  },
  {
   "cell_type": "code",
   "execution_count": 9,
   "metadata": {},
   "outputs": [
    {
     "data": {
      "text/plain": [
       "[<google.cloud.bigquery.table.TableListItem at 0x7ffa2c4a2b00>,\n",
       " <google.cloud.bigquery.table.TableListItem at 0x7ffa2c4a2be0>,\n",
       " <google.cloud.bigquery.table.TableListItem at 0x7ffa2c4a2a58>,\n",
       " <google.cloud.bigquery.table.TableListItem at 0x7ffa2c4a2b38>,\n",
       " <google.cloud.bigquery.table.TableListItem at 0x7ffa2c4a2d68>,\n",
       " <google.cloud.bigquery.table.TableListItem at 0x7ffa2c4a2cf8>,\n",
       " <google.cloud.bigquery.table.TableListItem at 0x7ffa2c4a28d0>,\n",
       " <google.cloud.bigquery.table.TableListItem at 0x7ffa2c4a2940>,\n",
       " <google.cloud.bigquery.table.TableListItem at 0x7ffa2c4a24e0>,\n",
       " <google.cloud.bigquery.table.TableListItem at 0x7ffa2c4a2ba8>,\n",
       " <google.cloud.bigquery.table.TableListItem at 0x7ffa2c4a2c88>,\n",
       " <google.cloud.bigquery.table.TableListItem at 0x7ffa2c4a2908>,\n",
       " <google.cloud.bigquery.table.TableListItem at 0x7ffa2c4a2860>,\n",
       " <google.cloud.bigquery.table.TableListItem at 0x7ffa2c4a2828>,\n",
       " <google.cloud.bigquery.table.TableListItem at 0x7ffa2c4a2780>,\n",
       " <google.cloud.bigquery.table.TableListItem at 0x7ffa2c4a2128>,\n",
       " <google.cloud.bigquery.table.TableListItem at 0x7ffa2c4a2fd0>,\n",
       " <google.cloud.bigquery.table.TableListItem at 0x7ffa2c4a2048>,\n",
       " <google.cloud.bigquery.table.TableListItem at 0x7ffa2c4a23c8>,\n",
       " <google.cloud.bigquery.table.TableListItem at 0x7ffa2c4a2f28>,\n",
       " <google.cloud.bigquery.table.TableListItem at 0x7ffa2c4b20f0>,\n",
       " <google.cloud.bigquery.table.TableListItem at 0x7ffa2c4b2080>,\n",
       " <google.cloud.bigquery.table.TableListItem at 0x7ffa2c4b2048>,\n",
       " <google.cloud.bigquery.table.TableListItem at 0x7ffa2c4b2ac8>,\n",
       " <google.cloud.bigquery.table.TableListItem at 0x7ffa2c4b2b00>,\n",
       " <google.cloud.bigquery.table.TableListItem at 0x7ffa2c4b2b38>,\n",
       " <google.cloud.bigquery.table.TableListItem at 0x7ffa2c4b2b70>,\n",
       " <google.cloud.bigquery.table.TableListItem at 0x7ffa2c4b2ba8>,\n",
       " <google.cloud.bigquery.table.TableListItem at 0x7ffa2c4b2be0>,\n",
       " <google.cloud.bigquery.table.TableListItem at 0x7ffa2c4b2c18>,\n",
       " <google.cloud.bigquery.table.TableListItem at 0x7ffa2c4b2c50>,\n",
       " <google.cloud.bigquery.table.TableListItem at 0x7ffa2c4b2c88>,\n",
       " <google.cloud.bigquery.table.TableListItem at 0x7ffa2c4b2cc0>,\n",
       " <google.cloud.bigquery.table.TableListItem at 0x7ffa2c4b2cf8>,\n",
       " <google.cloud.bigquery.table.TableListItem at 0x7ffa2c4b2d30>,\n",
       " <google.cloud.bigquery.table.TableListItem at 0x7ffa2c4b2d68>,\n",
       " <google.cloud.bigquery.table.TableListItem at 0x7ffa2c4b2da0>,\n",
       " <google.cloud.bigquery.table.TableListItem at 0x7ffa2c4b2dd8>,\n",
       " <google.cloud.bigquery.table.TableListItem at 0x7ffa2c4b2e10>,\n",
       " <google.cloud.bigquery.table.TableListItem at 0x7ffa2c4b2e48>,\n",
       " <google.cloud.bigquery.table.TableListItem at 0x7ffa2c4b2e80>,\n",
       " <google.cloud.bigquery.table.TableListItem at 0x7ffa2c4b2eb8>]"
      ]
     },
     "execution_count": 9,
     "metadata": {},
     "output_type": "execute_result"
    }
   ],
   "source": [
    "tables"
   ]
  },
  {
   "cell_type": "code",
   "execution_count": 10,
   "metadata": {},
   "outputs": [
    {
     "name": "stdout",
     "output_type": "stream",
     "text": [
      "Daily_routine\n",
      "EURUSD_prices\n",
      "arky_family\n",
      "auto\n",
      "branches\n",
      "company_party\n",
      "compare_costs\n",
      "counties\n",
      "counties_task_5\n",
      "counties_task_five\n",
      "departments\n",
      "employees\n",
      "employees_with_dupes\n",
      "employees_with_sha512\n",
      "google_ads\n",
      "google_ads_ay\n",
      "google_ads_barky\n",
      "google_ads_baruch\n",
      "google_ads_chaim\n",
      "google_ads_dani\n",
      "google_ads_dani_ammended\n",
      "google_ads_etl_step_1\n",
      "google_ads_etl_step_2\n",
      "google_ads_hash_Yossi\n",
      "google_ads_hash_baruch\n",
      "google_ads_mendy\n",
      "google_ads_yossi\n",
      "group_by_sandbox\n",
      "join_test_counties\n",
      "join_test_states\n",
      "las_vegas\n",
      "las_vegas_split\n",
      "las_vegas_temp\n",
      "life_expectancy\n",
      "produce_cost\n",
      "shopping_items\n",
      "states\n",
      "stock_exchanges_raw_input\n",
      "x_stg_create_from_dataframe\n",
      "x_stg_create_from_query\n",
      "x_stg_mock_salaries\n",
      "x_stg_mock_test\n"
     ]
    }
   ],
   "source": [
    "for table in tables:\n",
    "    print(table.table_id)"
   ]
  },
  {
   "cell_type": "markdown",
   "metadata": {
    "toc-hr-collapsed": true
   },
   "source": [
    "---\n",
    "### Writing SQL query results to a destination table:"
   ]
  },
  {
   "cell_type": "markdown",
   "metadata": {},
   "source": [
    "#### **`1:`** Setup job config details "
   ]
  },
  {
   "cell_type": "code",
   "execution_count": 11,
   "metadata": {},
   "outputs": [
    {
     "data": {
      "text/plain": [
       "<google.cloud.bigquery.job.QueryJobConfig at 0x7ffa2c4f2080>"
      ]
     },
     "execution_count": 11,
     "metadata": {},
     "output_type": "execute_result"
    }
   ],
   "source": [
    "job_config = bigquery.QueryJobConfig()\n",
    "\n",
    "job_config"
   ]
  },
  {
   "cell_type": "code",
   "execution_count": 12,
   "metadata": {},
   "outputs": [],
   "source": [
    "# Set the destination table. \n",
    "table_ref = dataset_ref.table('arky_family')\n",
    "\n",
    "job_config.destination = table_ref"
   ]
  },
  {
   "cell_type": "code",
   "execution_count": 13,
   "metadata": {},
   "outputs": [],
   "source": [
    "# With WRITE_TRUNCATE, any existing rows in the table are overwritten by the query results.\n",
    "job_config.write_disposition = 'WRITE_TRUNCATE'"
   ]
  },
  {
   "cell_type": "markdown",
   "metadata": {},
   "source": [
    "#### **`2:`** Define the query string"
   ]
  },
  {
   "cell_type": "code",
   "execution_count": 14,
   "metadata": {},
   "outputs": [],
   "source": [
    "query_str = \"\"\"\n",
    "select 'Baruch'  name, 35 age, 'chaf nissan' birthday  union all\n",
    "select 'Zehava' name, 33 age, 'yud adar beis' birthday  union all\n",
    "select 'Mendel' name, 5 age, 'yud-tes cheshvan' birthday  union all\n",
    "select 'Chaigi' name, 0 age, 'yud-beis adar beis' birthday  \n",
    "\"\"\"\n",
    "\n"
   ]
  },
  {
   "cell_type": "markdown",
   "metadata": {},
   "source": [
    "#### **`3:`** Run the BigQuery query job"
   ]
  },
  {
   "cell_type": "code",
   "execution_count": 15,
   "metadata": {},
   "outputs": [],
   "source": [
    "query_job = bq_client.query(\n",
    "    query_str,\n",
    "    # Location must match that of the dataset(s) referenced in the query and of the destination table.\n",
    "    location   = 'US',\n",
    "    job_config = job_config\n",
    ")  # API request - starts the query\n",
    "\n",
    "rows = list(query_job)  # Waits for the query to finish"
   ]
  },
  {
   "cell_type": "code",
   "execution_count": 16,
   "metadata": {},
   "outputs": [
    {
     "data": {
      "text/plain": [
       "[Row(('Chaigi', 0, 'yud-beis adar beis'), {'name': 0, 'age': 1, 'birthday': 2}),\n",
       " Row(('Mendel', 5, 'yud-tes cheshvan'), {'name': 0, 'age': 1, 'birthday': 2}),\n",
       " Row(('Zehava', 33, 'yud adar beis'), {'name': 0, 'age': 1, 'birthday': 2}),\n",
       " Row(('Baruch', 35, 'chaf nissan'), {'name': 0, 'age': 1, 'birthday': 2})]"
      ]
     },
     "execution_count": 16,
     "metadata": {},
     "output_type": "execute_result"
    }
   ],
   "source": [
    "rows"
   ]
  },
  {
   "cell_type": "code",
   "execution_count": 17,
   "metadata": {},
   "outputs": [],
   "source": [
    "assert len(rows) == 4"
   ]
  },
  {
   "cell_type": "markdown",
   "metadata": {
    "toc-hr-collapsed": true
   },
   "source": [
    "---\n",
    "### Extract a table to Google Cloud Storage:\n",
    "\n",
    "---\n",
    "\n",
    "Make sure the project service account has access to GCS\n",
    "\n",
    "1. See account name above: \n",
    "    - data-science-course-a1544568093e.json\n",
    "\n",
    "2. Find name for that ID `a154456...`\n",
    "    - https://console.cloud.google.com/iam-admin/serviceaccounts?folder=&organizationId=&project=data-science-course-226116\n",
    "    - In this case its is `ds-course-service-account`\n",
    "\n",
    "3. Add Storage Admine Role to that account:\n",
    "    - https://console.cloud.google.com/iam-admin/iam?project=data-science-course-226116\n",
    "\n",
    "---"
   ]
  },
  {
   "cell_type": "markdown",
   "metadata": {},
   "source": [
    "#### **`1:`** Set the GCS destination URI\n",
    "- https://console.cloud.google.com/storage/browser?project=data-science-course-226116&folder&organizationId"
   ]
  },
  {
   "cell_type": "code",
   "execution_count": 18,
   "metadata": {},
   "outputs": [
    {
     "data": {
      "text/plain": [
       "'gs://data-sci-class/arky-family.csv'"
      ]
     },
     "execution_count": 18,
     "metadata": {},
     "output_type": "execute_result"
    }
   ],
   "source": [
    "bucket_name     = 'data-sci-class'\n",
    "\n",
    "destination_uri = 'gs://{}/{}'.format(bucket_name, 'arky-family.csv')\n",
    "\n",
    "destination_uri"
   ]
  },
  {
   "cell_type": "markdown",
   "metadata": {},
   "source": [
    "#### **`2:`** set the table you want to extract"
   ]
  },
  {
   "cell_type": "code",
   "execution_count": 19,
   "metadata": {},
   "outputs": [],
   "source": [
    "table_ref       = dataset_ref.table('arky_family')"
   ]
  },
  {
   "cell_type": "markdown",
   "metadata": {},
   "source": [
    "#### **`3:`** Run the BigQuery extract job"
   ]
  },
  {
   "cell_type": "code",
   "execution_count": 20,
   "metadata": {},
   "outputs": [
    {
     "data": {
      "text/plain": [
       "<google.cloud.bigquery.job.ExtractJob at 0x7ffa2c4f2d68>"
      ]
     },
     "execution_count": 20,
     "metadata": {},
     "output_type": "execute_result"
    }
   ],
   "source": [
    "extract_job = bq_client.extract_table(\n",
    "    table_ref,\n",
    "    destination_uri,\n",
    "    # Location must match that of the source table.\n",
    "    location='US'\n",
    ")  \n",
    "\n",
    "extract_job.result()  # Waits for job to complete."
   ]
  },
  {
   "cell_type": "markdown",
   "metadata": {},
   "source": [
    "---\n",
    "\n",
    "See file in GCS:\n",
    "- https://console.cloud.google.com/storage/browser/data-sci-class?project=data-science-course-226116&folder&organizationId"
   ]
  },
  {
   "cell_type": "markdown",
   "metadata": {
    "toc-hr-collapsed": true
   },
   "source": [
    "---\n",
    "### Overwrite / replace an existing table with a CSV file from Cloud Storage:"
   ]
  },
  {
   "cell_type": "markdown",
   "metadata": {},
   "source": [
    "#### **`1:`** Set the destination table"
   ]
  },
  {
   "cell_type": "code",
   "execution_count": 21,
   "metadata": {},
   "outputs": [],
   "source": [
    "table_ref = dataset_ref.table('arky_family')"
   ]
  },
  {
   "cell_type": "markdown",
   "metadata": {},
   "source": [
    "#### **`2:`** Set the source GCS file"
   ]
  },
  {
   "cell_type": "code",
   "execution_count": 27,
   "metadata": {},
   "outputs": [],
   "source": [
    "bucket_name     = 'data-sci-class'\n",
    "\n",
    "gcs_uri = 'gs://{}/{}'.format(bucket_name, 'arky-family.csv')"
   ]
  },
  {
   "cell_type": "markdown",
   "metadata": {},
   "source": [
    "#### **`3:`** Setup job config info"
   ]
  },
  {
   "cell_type": "code",
   "execution_count": 28,
   "metadata": {},
   "outputs": [],
   "source": [
    "job_config = bigquery.LoadJobConfig()\n",
    "\n",
    "job_config.write_disposition = bigquery.WriteDisposition.WRITE_TRUNCATE\n",
    "job_config.skip_leading_rows = 1\n",
    "\n",
    "# The source format defaults to CSV, so the line below is optional.\n",
    "job_config.source_format = bigquery.SourceFormat.CSV"
   ]
  },
  {
   "cell_type": "markdown",
   "metadata": {},
   "source": [
    "#### **`4:`** Define the table schema\n",
    "- https://cloud.google.com/bigquery/docs/schemas#specify-schema-manual-python"
   ]
  },
  {
   "cell_type": "code",
   "execution_count": 29,
   "metadata": {},
   "outputs": [],
   "source": [
    "job_config.schema = [\n",
    "    bigquery.SchemaField(\"name\", \"STRING\"),\n",
    "    bigquery.SchemaField(\"age\", \"NUMERIC\"),\n",
    "    bigquery.SchemaField(\"birthday\", \"STRING\"),\n",
    "]"
   ]
  },
  {
   "cell_type": "markdown",
   "metadata": {},
   "source": [
    "#### **`5:`** Run the load-table job"
   ]
  },
  {
   "cell_type": "code",
   "execution_count": 30,
   "metadata": {},
   "outputs": [
    {
     "data": {
      "text/plain": [
       "<google.cloud.bigquery.job.LoadJob at 0x7ffa2c4f2400>"
      ]
     },
     "execution_count": 30,
     "metadata": {},
     "output_type": "execute_result"
    }
   ],
   "source": [
    "load_job = bq_client.load_table_from_uri(    \n",
    "    gcs_uri,\n",
    "    table_ref,\n",
    "    job_config = job_config\n",
    ")  # API request\n",
    "\n",
    "assert load_job.job_type == 'load'\n",
    "\n",
    "load_job.result()  # Waits for table load to complete.\n"
   ]
  },
  {
   "cell_type": "markdown",
   "metadata": {},
   "source": [
    "#### **`6:`** Final assertions"
   ]
  },
  {
   "cell_type": "code",
   "execution_count": 32,
   "metadata": {},
   "outputs": [],
   "source": [
    "assert load_job.state == 'DONE'\n",
    "\n",
    "assert bq_client.get_table(table_ref).num_rows == 4"
   ]
  }
 ],
 "metadata": {
  "kernelspec": {
   "display_name": "Python (env-py-learn)",
   "language": "python",
   "name": "env-py-learn"
  },
  "language_info": {
   "codemirror_mode": {
    "name": "ipython",
    "version": 3
   },
   "file_extension": ".py",
   "mimetype": "text/x-python",
   "name": "python",
   "nbconvert_exporter": "python",
   "pygments_lexer": "ipython3",
   "version": "3.6.8"
  }
 },
 "nbformat": 4,
 "nbformat_minor": 2
}
