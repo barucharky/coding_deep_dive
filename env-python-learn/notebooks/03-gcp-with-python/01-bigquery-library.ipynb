{
 "cells": [
  {
   "cell_type": "markdown",
   "metadata": {},
   "source": [
    "# B''H"
   ]
  },
  {
   "cell_type": "code",
   "execution_count": 1,
   "metadata": {},
   "outputs": [],
   "source": [
    "from google.cloud import bigquery"
   ]
  },
  {
   "cell_type": "markdown",
   "metadata": {},
   "source": [
    "---\n",
    "### Prerequisite Step 1 - get/set environment variable that contains the key to access BigQuery API"
   ]
  },
  {
   "cell_type": "code",
   "execution_count": 2,
   "metadata": {},
   "outputs": [
    {
     "name": "stdout",
     "output_type": "stream",
     "text": [
      "env: GOOGLE_APPLICATION_CREDENTIALS=/home/baruch/app-keys/data-science-course-a1544568093e.json\n"
     ]
    }
   ],
   "source": [
    "%set_env GOOGLE_APPLICATION_CREDENTIALS=/home/baruch/app-keys/data-science-course-a1544568093e.json"
   ]
  },
  {
   "cell_type": "markdown",
   "metadata": {},
   "source": [
    "---\n",
    "\n",
    "### Prerequisite Step 2 - Instantiate a BigQuery Python client\n",
    "- Use the **Project ID** not the **Project Name**\n",
    "- See https://console.cloud.google.com/home/dashboard?project=data-science-course-226116 for the proejct name and ID"
   ]
  },
  {
   "cell_type": "code",
   "execution_count": 3,
   "metadata": {},
   "outputs": [],
   "source": [
    "bq_client = bigquery.Client(project='data-science-course-226116')"
   ]
  },
  {
   "cell_type": "code",
   "execution_count": 4,
   "metadata": {},
   "outputs": [
    {
     "data": {
      "text/plain": [
       "<google.cloud.bigquery.client.Client at 0x7ff29d085f98>"
      ]
     },
     "execution_count": 4,
     "metadata": {},
     "output_type": "execute_result"
    }
   ],
   "source": [
    "bq_client"
   ]
  },
  {
   "cell_type": "markdown",
   "metadata": {},
   "source": [
    "---\n",
    "\n",
    "### Get project-id"
   ]
  },
  {
   "cell_type": "code",
   "execution_count": 5,
   "metadata": {},
   "outputs": [
    {
     "data": {
      "text/plain": [
       "'data-science-course-226116'"
      ]
     },
     "execution_count": 5,
     "metadata": {},
     "output_type": "execute_result"
    }
   ],
   "source": [
    "project = bq_client.project\n",
    "\n",
    "project"
   ]
  },
  {
   "cell_type": "markdown",
   "metadata": {},
   "source": [
    "---\n",
    "\n",
    "### List datasets for the client’s project:"
   ]
  },
  {
   "cell_type": "code",
   "execution_count": 6,
   "metadata": {},
   "outputs": [
    {
     "data": {
      "text/plain": [
       "[<google.cloud.bigquery.dataset.DatasetListItem at 0x7ff29c5c3e80>]"
      ]
     },
     "execution_count": 6,
     "metadata": {},
     "output_type": "execute_result"
    }
   ],
   "source": [
    "datasets = list(bq_client.list_datasets())\n",
    "\n",
    "datasets"
   ]
  },
  {
   "cell_type": "code",
   "execution_count": 7,
   "metadata": {},
   "outputs": [
    {
     "name": "stdout",
     "output_type": "stream",
     "text": [
      "sql_lessons\n"
     ]
    }
   ],
   "source": [
    "for dataset in datasets:  \n",
    "    print(dataset.dataset_id)"
   ]
  },
  {
   "cell_type": "markdown",
   "metadata": {},
   "source": [
    "### List tables for the dataset:"
   ]
  },
  {
   "cell_type": "code",
   "execution_count": 8,
   "metadata": {},
   "outputs": [],
   "source": [
    "dataset_ref = bq_client.dataset('sql_lessons')\n",
    "\n",
    "tables = list(bq_client.list_tables(dataset_ref))  # API request(s)"
   ]
  },
  {
   "cell_type": "code",
   "execution_count": 10,
   "metadata": {},
   "outputs": [
    {
     "data": {
      "text/plain": [
       "[<google.cloud.bigquery.table.TableListItem at 0x7ff270dddb38>,\n",
       " <google.cloud.bigquery.table.TableListItem at 0x7ff270ddd630>,\n",
       " <google.cloud.bigquery.table.TableListItem at 0x7ff270ddda20>,\n",
       " <google.cloud.bigquery.table.TableListItem at 0x7ff270ddd470>,\n",
       " <google.cloud.bigquery.table.TableListItem at 0x7ff270ddd518>,\n",
       " <google.cloud.bigquery.table.TableListItem at 0x7ff270ddd3c8>,\n",
       " <google.cloud.bigquery.table.TableListItem at 0x7ff270ddda58>,\n",
       " <google.cloud.bigquery.table.TableListItem at 0x7ff270ddd898>,\n",
       " <google.cloud.bigquery.table.TableListItem at 0x7ff270ddd9e8>,\n",
       " <google.cloud.bigquery.table.TableListItem at 0x7ff270dddf60>,\n",
       " <google.cloud.bigquery.table.TableListItem at 0x7ff270ddd828>,\n",
       " <google.cloud.bigquery.table.TableListItem at 0x7ff270ddd438>,\n",
       " <google.cloud.bigquery.table.TableListItem at 0x7ff270ddd9b0>,\n",
       " <google.cloud.bigquery.table.TableListItem at 0x7ff270ddd908>,\n",
       " <google.cloud.bigquery.table.TableListItem at 0x7ff270ddd8d0>,\n",
       " <google.cloud.bigquery.table.TableListItem at 0x7ff270ddd710>,\n",
       " <google.cloud.bigquery.table.TableListItem at 0x7ff270ddd860>,\n",
       " <google.cloud.bigquery.table.TableListItem at 0x7ff270ddde10>,\n",
       " <google.cloud.bigquery.table.TableListItem at 0x7ff270dddef0>,\n",
       " <google.cloud.bigquery.table.TableListItem at 0x7ff270dddeb8>,\n",
       " <google.cloud.bigquery.table.TableListItem at 0x7ff270ddde80>,\n",
       " <google.cloud.bigquery.table.TableListItem at 0x7ff270ddde48>,\n",
       " <google.cloud.bigquery.table.TableListItem at 0x7ff270dddd68>,\n",
       " <google.cloud.bigquery.table.TableListItem at 0x7ff270dee6a0>,\n",
       " <google.cloud.bigquery.table.TableListItem at 0x7ff270dee6d8>,\n",
       " <google.cloud.bigquery.table.TableListItem at 0x7ff270dee710>,\n",
       " <google.cloud.bigquery.table.TableListItem at 0x7ff270dee748>,\n",
       " <google.cloud.bigquery.table.TableListItem at 0x7ff270dee780>,\n",
       " <google.cloud.bigquery.table.TableListItem at 0x7ff270dee7b8>,\n",
       " <google.cloud.bigquery.table.TableListItem at 0x7ff270dee7f0>,\n",
       " <google.cloud.bigquery.table.TableListItem at 0x7ff270dee828>,\n",
       " <google.cloud.bigquery.table.TableListItem at 0x7ff270dee860>,\n",
       " <google.cloud.bigquery.table.TableListItem at 0x7ff270dee898>,\n",
       " <google.cloud.bigquery.table.TableListItem at 0x7ff270dee8d0>]"
      ]
     },
     "execution_count": 10,
     "metadata": {},
     "output_type": "execute_result"
    }
   ],
   "source": [
    "tables"
   ]
  },
  {
   "cell_type": "code",
   "execution_count": 11,
   "metadata": {},
   "outputs": [
    {
     "name": "stdout",
     "output_type": "stream",
     "text": [
      "Daily_routine\n",
      "EURUSD_prices\n",
      "auto\n",
      "branches\n",
      "company_party\n",
      "compare_costs\n",
      "counties\n",
      "departments\n",
      "employees\n",
      "employees_with_dupes\n",
      "employees_with_sha512\n",
      "google_ads\n",
      "google_ads_ay\n",
      "google_ads_barky\n",
      "google_ads_baruch\n",
      "google_ads_chaim\n",
      "google_ads_dani\n",
      "google_ads_dani_ammended\n",
      "google_ads_etl_step_1\n",
      "google_ads_etl_step_2\n",
      "google_ads_hash_Yossi\n",
      "google_ads_hash_baruch\n",
      "google_ads_mendy\n",
      "google_ads_yossi\n",
      "group_by_sandbox\n",
      "join_test_counties\n",
      "join_test_states\n",
      "life_expectancy\n",
      "produce_cost\n",
      "shopping_items\n",
      "states\n",
      "stock_exchanges_raw_input\n",
      "x_stg_create_from_query\n",
      "x_stg_mock_salaries\n"
     ]
    }
   ],
   "source": [
    "for table in tables:\n",
    "    print(table.table_id)"
   ]
  },
  {
   "cell_type": "markdown",
   "metadata": {},
   "source": [
    "---\n",
    "### Writing SQL query results to a destination table:"
   ]
  },
  {
   "cell_type": "markdown",
   "metadata": {},
   "source": [
    "#### **`1:`** Setup job config details "
   ]
  },
  {
   "cell_type": "code",
   "execution_count": 12,
   "metadata": {},
   "outputs": [
    {
     "data": {
      "text/plain": [
       "<google.cloud.bigquery.job.QueryJobConfig at 0x7ff270dee978>"
      ]
     },
     "execution_count": 12,
     "metadata": {},
     "output_type": "execute_result"
    }
   ],
   "source": [
    "job_config = bigquery.QueryJobConfig()\n",
    "\n",
    "job_config"
   ]
  },
  {
   "cell_type": "code",
   "execution_count": 13,
   "metadata": {},
   "outputs": [],
   "source": [
    "# Set the destination table. \n",
    "table_ref = dataset_ref.table('x_stg_mock_salaries')\n",
    "\n",
    "job_config.destination = table_ref"
   ]
  },
  {
   "cell_type": "code",
   "execution_count": 15,
   "metadata": {},
   "outputs": [],
   "source": [
    "# With WRITE_TRUNCATE, any existing rows in the table are overwritten by the query results.\n",
    "job_config.write_disposition = 'WRITE_TRUNCATE'"
   ]
  },
  {
   "cell_type": "markdown",
   "metadata": {},
   "source": [
    "#### **`2:`** Define the query string"
   ]
  },
  {
   "cell_type": "code",
   "execution_count": 16,
   "metadata": {},
   "outputs": [],
   "source": [
    "query_str = \"\"\"\n",
    "select 'Aryeh'  name, 9437623.45 salary  union all\n",
    "select 'Reuven' name, 6446515.98 salary  union all\n",
    "select 'Shimon' name, 4437623.15 salary  union all\n",
    "select 'Levi'   name, 7437223.77 salary  \n",
    "\"\"\"\n",
    "\n"
   ]
  },
  {
   "cell_type": "markdown",
   "metadata": {},
   "source": [
    "#### **`3:`** Run the BigQuery query job"
   ]
  },
  {
   "cell_type": "code",
   "execution_count": 17,
   "metadata": {},
   "outputs": [],
   "source": [
    "query_job = bq_client.query(\n",
    "    query_str,\n",
    "    # Location must match that of the dataset(s) referenced in the query and of the destination table.\n",
    "    location   = 'US',\n",
    "    job_config = job_config\n",
    ")  # API request - starts the query\n",
    "\n",
    "rows = list(query_job)  # Waits for the query to finish"
   ]
  },
  {
   "cell_type": "code",
   "execution_count": 19,
   "metadata": {},
   "outputs": [
    {
     "data": {
      "text/plain": [
       "[Row(('Levi', 7437223.77), {'name': 0, 'salary': 1}),\n",
       " Row(('Shimon', 4437623.15), {'name': 0, 'salary': 1}),\n",
       " Row(('Aryeh', 9437623.45), {'name': 0, 'salary': 1}),\n",
       " Row(('Reuven', 6446515.98), {'name': 0, 'salary': 1})]"
      ]
     },
     "execution_count": 19,
     "metadata": {},
     "output_type": "execute_result"
    }
   ],
   "source": [
    "rows"
   ]
  },
  {
   "cell_type": "code",
   "execution_count": 21,
   "metadata": {},
   "outputs": [],
   "source": [
    "assert len(rows) == 4"
   ]
  },
  {
   "cell_type": "markdown",
   "metadata": {},
   "source": [
    "---\n",
    "### Extract a table to Google Cloud Storage:\n",
    "\n",
    "---\n",
    "\n",
    "Make sure the project service account has access to GCS\n",
    "\n",
    "1. See account name above: \n",
    "    - data-science-course-a1544568093e.json\n",
    "\n",
    "2. Find name for that ID `a154456...`\n",
    "    - https://console.cloud.google.com/iam-admin/serviceaccounts?folder=&organizationId=&project=data-science-course-226116\n",
    "    - In this case its is `ds-course-service-account`\n",
    "\n",
    "3. Add Storage Admin Role to that account:\n",
    "    - https://console.cloud.google.com/iam-admin/iam?project=data-science-course-226116\n",
    "\n",
    "---"
   ]
  },
  {
   "cell_type": "markdown",
   "metadata": {},
   "source": [
    "#### **`1:`** Set the GCS destination URI\n",
    "- https://console.cloud.google.com/storage/browser?project=data-science-course-226116&folder&organizationId"
   ]
  },
  {
   "cell_type": "code",
   "execution_count": 23,
   "metadata": {},
   "outputs": [
    {
     "data": {
      "text/plain": [
       "'gs://data-sci-class/mock-salaries.csv'"
      ]
     },
     "execution_count": 23,
     "metadata": {},
     "output_type": "execute_result"
    }
   ],
   "source": [
    "bucket_name     = 'data-sci-class'\n",
    "\n",
    "destination_uri = 'gs://{}/{}'.format(bucket_name, 'mock-salaries.csv')\n",
    "\n",
    "destination_uri"
   ]
  },
  {
   "cell_type": "markdown",
   "metadata": {},
   "source": [
    "#### **`2:`** set the table you want to extract"
   ]
  },
  {
   "cell_type": "code",
   "execution_count": 25,
   "metadata": {},
   "outputs": [
    {
     "data": {
      "text/plain": [
       "TableReference(DatasetReference('data-science-course-226116', 'sql_lessons'), 'x_stg_mock_salaries')"
      ]
     },
     "execution_count": 25,
     "metadata": {},
     "output_type": "execute_result"
    }
   ],
   "source": [
    "table_ref       = dataset_ref.table('x_stg_mock_salaries')\n",
    "\n",
    "table_ref"
   ]
  },
  {
   "cell_type": "markdown",
   "metadata": {},
   "source": [
    "#### **`3:`** Run the BigQuery extract job"
   ]
  },
  {
   "cell_type": "code",
   "execution_count": 26,
   "metadata": {},
   "outputs": [
    {
     "data": {
      "text/plain": [
       "<google.cloud.bigquery.job.ExtractJob at 0x7ff270553b00>"
      ]
     },
     "execution_count": 26,
     "metadata": {},
     "output_type": "execute_result"
    }
   ],
   "source": [
    "extract_job = bq_client.extract_table(\n",
    "    table_ref,\n",
    "    destination_uri,\n",
    "    # Location must match that of the source table.\n",
    "    location='US'\n",
    ")  \n",
    "\n",
    "extract_job.result()  # Waits for job to complete."
   ]
  },
  {
   "cell_type": "markdown",
   "metadata": {},
   "source": [
    "---\n",
    "\n",
    "See file in GCS:\n",
    "- https://console.cloud.google.com/storage/browser/data-sci-class?project=data-science-course-226116&folder&organizationId"
   ]
  },
  {
   "cell_type": "markdown",
   "metadata": {},
   "source": [
    "---\n",
    "### Overwrite / replace an existing table with a CSV file from Cloud Storage:"
   ]
  },
  {
   "cell_type": "markdown",
   "metadata": {},
   "source": [
    "#### **`1:`** Set the destination table"
   ]
  },
  {
   "cell_type": "code",
   "execution_count": 27,
   "metadata": {},
   "outputs": [],
   "source": [
    "table_ref = dataset_ref.table('x_stg_mock_salaries')"
   ]
  },
  {
   "cell_type": "markdown",
   "metadata": {},
   "source": [
    "#### **`2:`** Set the source GCS file"
   ]
  },
  {
   "cell_type": "code",
   "execution_count": 29,
   "metadata": {},
   "outputs": [],
   "source": [
    "bucket_name     = 'data-sci-class'\n",
    "\n",
    "gcs_uri = 'gs://{}/{}'.format(bucket_name, 'mock-salaries.csv')"
   ]
  },
  {
   "cell_type": "markdown",
   "metadata": {},
   "source": [
    "#### **`3:`** Setup job config info"
   ]
  },
  {
   "cell_type": "code",
   "execution_count": 30,
   "metadata": {},
   "outputs": [],
   "source": [
    "job_config = bigquery.LoadJobConfig()\n",
    "\n",
    "job_config.write_disposition = bigquery.WriteDisposition.WRITE_TRUNCATE\n",
    "job_config.skip_leading_rows = 1\n",
    "\n",
    "# The source format defaults to CSV, so the line below is optional.\n",
    "job_config.source_format = bigquery.SourceFormat.CSV"
   ]
  },
  {
   "cell_type": "markdown",
   "metadata": {},
   "source": [
    "#### **`4:`** Define the table schema\n",
    "- https://cloud.google.com/bigquery/docs/schemas#specify-schema-manual-python"
   ]
  },
  {
   "cell_type": "code",
   "execution_count": 31,
   "metadata": {},
   "outputs": [],
   "source": [
    "job_config.schema = [\n",
    "    bigquery.SchemaField(\"name\", \"STRING\"),\n",
    "    bigquery.SchemaField(\"salary\", \"NUMERIC\"),\n",
    "]"
   ]
  },
  {
   "cell_type": "markdown",
   "metadata": {},
   "source": [
    "#### **`5:`** Run the load-table job"
   ]
  },
  {
   "cell_type": "code",
   "execution_count": 32,
   "metadata": {},
   "outputs": [
    {
     "data": {
      "text/plain": [
       "<google.cloud.bigquery.job.LoadJob at 0x7ff2704f2160>"
      ]
     },
     "execution_count": 32,
     "metadata": {},
     "output_type": "execute_result"
    }
   ],
   "source": [
    "load_job = bq_client.load_table_from_uri(    \n",
    "    gcs_uri,\n",
    "    table_ref,\n",
    "    job_config = job_config\n",
    ")  # API request\n",
    "\n",
    "assert load_job.job_type == 'load'\n",
    "\n",
    "load_job.result()  # Waits for table load to complete.\n"
   ]
  },
  {
   "cell_type": "markdown",
   "metadata": {},
   "source": [
    "#### **`6:`** Final assertions"
   ]
  },
  {
   "cell_type": "code",
   "execution_count": 33,
   "metadata": {},
   "outputs": [],
   "source": [
    "assert load_job.state == 'DONE'\n",
    "\n",
    "assert bq_client.get_table(table_ref).num_rows == 4"
   ]
  }
 ],
 "metadata": {
  "kernelspec": {
   "display_name": "Python (env-py-learn)",
   "language": "python",
   "name": "env-py-learn"
  },
  "language_info": {
   "codemirror_mode": {
    "name": "ipython",
    "version": 3
   },
   "file_extension": ".py",
   "mimetype": "text/x-python",
   "name": "python",
   "nbconvert_exporter": "python",
   "pygments_lexer": "ipython3",
   "version": "3.6.8"
  }
 },
 "nbformat": 4,
 "nbformat_minor": 2
}
