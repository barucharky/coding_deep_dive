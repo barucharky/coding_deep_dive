{
 "cells": [
  {
   "cell_type": "markdown",
   "metadata": {},
   "source": [
    "# B''H\n",
    "\n",
    "---"
   ]
  },
  {
   "cell_type": "markdown",
   "metadata": {},
   "source": [
    "Let's make put this whole thing in one box\n",
    "\n",
    "---"
   ]
  },
  {
   "cell_type": "markdown",
   "metadata": {},
   "source": [
    "### Create a table"
   ]
  },
  {
   "cell_type": "code",
   "execution_count": 2,
   "metadata": {},
   "outputs": [
    {
     "name": "stdout",
     "output_type": "stream",
     "text": [
      "env: GOOGLE_APPLICATION_CREDENTIALS=/home/baruch/app-keys/data-science-course-a1544568093e.json\n"
     ]
    }
   ],
   "source": [
    "from google.cloud import bigquery\n",
    "\n",
    "%set_env GOOGLE_APPLICATION_CREDENTIALS=/home/baruch/app-keys/data-science-course-a1544568093e.json\n",
    "\n",
    "bq_client = bigquery.Client(project='data-science-course-226116')\n",
    "\n",
    "project = bq_client.project\n",
    "\n",
    "job_config = bigquery.QueryJobConfig()\n",
    "\n",
    "dataset_ref = bq_client.dataset('sql_lessons')\n",
    "\n",
    "# Set the destination table. \n",
    "table_ref = dataset_ref.table('arky_family')\n",
    "\n",
    "job_config.destination = table_ref\n",
    "\n",
    "# With WRITE_TRUNCATE, any existing rows in the table are overwritten by the query results.\n",
    "job_config.write_disposition = 'WRITE_TRUNCATE'\n",
    "\n",
    "query_str = \"\"\"\n",
    "select 'Baruch'  name, 35 age, 'chaf nissan' birthday  union all\n",
    "select 'Zehava' name, 33 age, 'yud adar beis' birthday  union all\n",
    "select 'Mendel' name, 5 age, 'yud-tes cheshvan' birthday  union all\n",
    "select 'Chaigi' name, 0 age, 'yud-beis adar beis' birthday  \n",
    "\"\"\"\n",
    "\n",
    "\n",
    "\n",
    "query_job = bq_client.query(\n",
    "    query_str,\n",
    "    # Location must match that of the dataset(s) referenced in the query and of the destination table.\n",
    "    location   = 'US',\n",
    "    job_config = job_config\n",
    ")  # API request - starts the query\n",
    "\n"
   ]
  }
 ],
 "metadata": {
  "kernelspec": {
   "display_name": "Python (env-py-learn)",
   "language": "python",
   "name": "env-py-learn"
  },
  "language_info": {
   "codemirror_mode": {
    "name": "ipython",
    "version": 3
   },
   "file_extension": ".py",
   "mimetype": "text/x-python",
   "name": "python",
   "nbconvert_exporter": "python",
   "pygments_lexer": "ipython3",
   "version": "3.6.8"
  }
 },
 "nbformat": 4,
 "nbformat_minor": 2
}
