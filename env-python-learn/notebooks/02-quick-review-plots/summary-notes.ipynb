{
 "cells": [
  {
   "cell_type": "markdown",
   "metadata": {},
   "source": [
    "# B''H\n",
    "\n",
    "---\n",
    "\n",
    "## General notes on plots\n",
    "\n",
    "Concepts covered in class on Sunday 19/05/2019\n",
    "\n",
    "---"
   ]
  },
  {
   "cell_type": "code",
   "execution_count": 1,
   "metadata": {},
   "outputs": [],
   "source": [
    "import os\n",
    "import sys\n",
    "\n",
    "# Import the regular expression module\n",
    "import re\n",
    "\n",
    "import numpy as np\n",
    "\n",
    "import pandas as pd\n",
    "from scipy.stats import zscore\n",
    "\n",
    "import matplotlib.pyplot as plt\n",
    "\n",
    "import seaborn as sns\n",
    "\n",
    "from IPython.display import display, Markdown"
   ]
  },
  {
   "cell_type": "code",
   "execution_count": 2,
   "metadata": {},
   "outputs": [
    {
     "name": "stdout",
     "output_type": "stream",
     "text": [
      "Prior size: [6.0, 4.0]\n",
      "Current size: [12, 9]\n"
     ]
    }
   ],
   "source": [
    "# Get current size\n",
    "fig_size = plt.rcParams[\"figure.figsize\"]\n",
    " \n",
    "# Prints: [8.0, 6.0]\n",
    "print (\"Prior size:\", fig_size)\n",
    " \n",
    "# Set figure width to 12 and height to 9\n",
    "fig_size[0] = 12\n",
    "fig_size[1] = 9\n",
    "plt.rcParams[\"figure.figsize\"] = fig_size\n",
    "\n",
    "print (\"Current size:\", fig_size)"
   ]
  },
  {
   "cell_type": "code",
   "execution_count": 3,
   "metadata": {},
   "outputs": [
    {
     "name": "stdout",
     "output_type": "stream",
     "text": [
      "------------------------------\n",
      "          PROJ_ROOT           \n",
      "/home/baruch/repos/coding_deep_dive/env-python-learn\n",
      "------------------------------\n",
      " \n",
      "------------------------------\n",
      "           src_dir            \n",
      "/home/baruch/repos/coding_deep_dive/env-python-learn/src\n",
      "------------------------------\n",
      " \n"
     ]
    }
   ],
   "source": [
    "# -- -----------------------------------------------------------------\n",
    "PROJ_ROOT = '../..'\n",
    "\n",
    "print(\"------------------------------\")\n",
    "print(\"          PROJ_ROOT           \")\n",
    "print(os.path.abspath(PROJ_ROOT))\n",
    "print(\"------------------------------\")\n",
    "print(\" \")\n",
    "# -- -----------------------------------------------------------------\n",
    "\n",
    "\n",
    "\n",
    "# -- -----------------------------------------------------------------\n",
    "# add the 'src' directory as one where we can import modules\n",
    "src_dir = os.path.join(PROJ_ROOT, 'src')\n",
    "sys.path.append(src_dir)\n",
    "\n",
    "\n",
    "print(\"------------------------------\")\n",
    "print(\"           src_dir            \")\n",
    "print(os.path.abspath(src_dir))\n",
    "print(\"------------------------------\")\n",
    "print(\" \")\n",
    "# -- -----------------------------------------------------------------\n",
    "\n",
    "\n",
    "\n",
    "# -- -----------------------------------------------------------------\n",
    "# Load the \"autoreload\" extension\n",
    "%load_ext autoreload\n",
    "\n",
    "# always reload modules marked with \"%aimport\"\n",
    "%autoreload 1\n",
    "\n",
    "# import my method from the source code\n",
    "%aimport helper_functions\n",
    "import helper_functions as hf\n",
    "# -- -----------------------------------------------------------------"
   ]
  },
  {
   "cell_type": "markdown",
   "metadata": {},
   "source": [
    "---"
   ]
  },
  {
   "cell_type": "markdown",
   "metadata": {},
   "source": [
    "Continuous data, categorical data, and time series"
   ]
  },
  {
   "cell_type": "code",
   "execution_count": null,
   "metadata": {},
   "outputs": [],
   "source": []
  },
  {
   "cell_type": "code",
   "execution_count": null,
   "metadata": {},
   "outputs": [],
   "source": []
  },
  {
   "cell_type": "code",
   "execution_count": null,
   "metadata": {},
   "outputs": [],
   "source": []
  },
  {
   "cell_type": "code",
   "execution_count": null,
   "metadata": {},
   "outputs": [],
   "source": []
  },
  {
   "cell_type": "code",
   "execution_count": null,
   "metadata": {},
   "outputs": [],
   "source": []
  },
  {
   "cell_type": "code",
   "execution_count": null,
   "metadata": {},
   "outputs": [],
   "source": []
  }
 ],
 "metadata": {
  "kernelspec": {
   "display_name": "Python (env-py-learn)",
   "language": "python",
   "name": "env-py-learn"
  },
  "language_info": {
   "codemirror_mode": {
    "name": "ipython",
    "version": 3
   },
   "file_extension": ".py",
   "mimetype": "text/x-python",
   "name": "python",
   "nbconvert_exporter": "python",
   "pygments_lexer": "ipython3",
   "version": "3.6.8"
  }
 },
 "nbformat": 4,
 "nbformat_minor": 2
}
